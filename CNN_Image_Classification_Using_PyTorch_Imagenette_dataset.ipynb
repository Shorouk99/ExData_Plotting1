{
  "nbformat": 4,
  "nbformat_minor": 0,
  "metadata": {
    "colab": {
      "name": "CNN Image Classification Using PyTorch-Imagenette dataset.ipynb",
      "provenance": [],
      "collapsed_sections": [
        "wj-_AjAqWPu1"
      ],
      "mount_file_id": "1jk4L3Em8Rd4q388Ar1lGhkjcDSlckVUN",
      "authorship_tag": "ABX9TyOwDQPZAky7bbp+4LufoLnm",
      "include_colab_link": true
    },
    "kernelspec": {
      "display_name": "Python 3",
      "name": "python3"
    },
    "language_info": {
      "name": "python"
    }
  },
  "cells": [
    {
      "cell_type": "markdown",
      "metadata": {
        "id": "view-in-github",
        "colab_type": "text"
      },
      "source": [
        "<a href=\"https://colab.research.google.com/github/Shorouk99/ExData_Plotting1/blob/master/CNN_Image_Classification_Using_PyTorch_Imagenette_dataset.ipynb\" target=\"_parent\"><img src=\"https://colab.research.google.com/assets/colab-badge.svg\" alt=\"Open In Colab\"/></a>"
      ]
    },
    {
      "cell_type": "markdown",
      "metadata": {
        "id": "3Ug0Kn-rto4H"
      },
      "source": [
        "#Image Classification Model Trained on Imagenette dataset using PyTorch\n",
        "This model achieves accuracy of 70%  on testing data.\n",
        "Building this network was guided by these tutorials ([1](https://www.analyticsvidhya.com/blog/2020/07/how-to-train-an-image-classification-model-in-pytorch-and-tensorflow/), [2](https://www.kaggle.com/vikasbhadoria/cifar10-high-accuracy-model-build-on-pytorch)).\n",
        "Created on August 8, 2021 by Shorouk Magdy for the ARL Online Technical Mission"
      ]
    },
    {
      "cell_type": "markdown",
      "metadata": {
        "id": "wj-_AjAqWPu1"
      },
      "source": [
        "#Importing The dataset into the notebook\n",
        "The section of code below downloades the Imagenette dataset and extracts it in Google Drive to be able to use it in Colab Notebook to benefit from the offered GPU"
      ]
    },
    {
      "cell_type": "code",
      "metadata": {
        "colab": {
          "base_uri": "https://localhost:8080/"
        },
        "id": "sEB4M-3f0mQ4",
        "outputId": "b2ca3a48-08bb-4b03-84da-c57c908c919a"
      },
      "source": [
        "pip install wget"
      ],
      "execution_count": null,
      "outputs": [
        {
          "output_type": "stream",
          "text": [
            "Collecting wget\n",
            "  Downloading wget-3.2.zip (10 kB)\n",
            "Building wheels for collected packages: wget\n",
            "  Building wheel for wget (setup.py) ... \u001b[?25l\u001b[?25hdone\n",
            "  Created wheel for wget: filename=wget-3.2-py3-none-any.whl size=9673 sha256=5bc6ac5027a655b75498952b27fdc358dbf5369b46effbcbb25e4766ac86c162\n",
            "  Stored in directory: /root/.cache/pip/wheels/a1/b6/7c/0e63e34eb06634181c63adacca38b79ff8f35c37e3c13e3c02\n",
            "Successfully built wget\n",
            "Installing collected packages: wget\n",
            "Successfully installed wget-3.2\n"
          ],
          "name": "stdout"
        }
      ]
    },
    {
      "cell_type": "code",
      "metadata": {
        "colab": {
          "base_uri": "https://localhost:8080/",
          "height": 35
        },
        "id": "Kb1l2SFMzCrm",
        "outputId": "8b1ea074-31a9-4c8c-cd7c-30cf3702f9f2"
      },
      "source": [
        "import wget\n",
        "url = 'https://s3.amazonaws.com/fast-ai-imageclas/imagenette2-160.tgz'\n",
        "dest = '/content/drive/My Drive/imagenette2-160.tgz'\n",
        "\n",
        "wget.download(url, out=dest)"
      ],
      "execution_count": null,
      "outputs": [
        {
          "output_type": "execute_result",
          "data": {
            "application/vnd.google.colaboratory.intrinsic+json": {
              "type": "string"
            },
            "text/plain": [
              "'/content/drive/My Drive/imagenette2-160.tgz'"
            ]
          },
          "metadata": {
            "tags": []
          },
          "execution_count": 10
        }
      ]
    },
    {
      "cell_type": "code",
      "metadata": {
        "id": "Ig350lqmzvqy"
      },
      "source": [
        "import tarfile\n",
        "\n",
        "file = tarfile.open('/content/drive/My Drive/imagenette2-160.tgz')\n",
        "file.extractall('/content/drive/My Drive')\n",
        "file.close()"
      ],
      "execution_count": null,
      "outputs": []
    },
    {
      "cell_type": "markdown",
      "metadata": {
        "id": "6n1odO7VW8cA"
      },
      "source": [
        "#Loading the dataset and applying needed transforms"
      ]
    },
    {
      "cell_type": "code",
      "metadata": {
        "id": "_8vo1XGq23x1"
      },
      "source": [
        "# importing the packages\n",
        "import numpy as np\n",
        "import torch\n",
        "import torchvision\n",
        "import matplotlib.pyplot as plt\n",
        "from time import time\n",
        "from torchvision import datasets, transforms\n",
        "from torch import nn, optim"
      ],
      "execution_count": null,
      "outputs": []
    },
    {
      "cell_type": "code",
      "metadata": {
        "id": "1gzftYYU4EW5"
      },
      "source": [
        "# Creating transform objects for the training and testing data \n",
        "transform = transforms.Compose([transforms.ToTensor(),\n",
        "                              transforms.Normalize((0.5, 0.5, 0.5) , (0.5, 0.5, 0.5)),\n",
        "                              transforms.Resize((160,160))\n",
        "                              ])\n",
        "transform_train = transforms.Compose([transforms.Resize((160,160)),  #resises the image so it can be perfect for our model.\n",
        "                                      transforms.RandomHorizontalFlip(), # FLips the image w.r.t horizontal axis\n",
        "                                      transforms.RandomRotation(10),     #Rotates the image to a specified angel\n",
        "                                      transforms.RandomAffine(0, shear=10, scale=(0.8,1.2)), #Performs actions like zooms, change shear angles.\n",
        "                                      transforms.ColorJitter(brightness=0.2, contrast=0.2, saturation=0.2), # Set the color params\n",
        "                                      transforms.ToTensor(), # comvert the image to tensor so that it can work with torch\n",
        "                                      transforms.Normalize((0.5, 0.5, 0.5), (0.5, 0.5, 0.5)) #Normalize all the images\n",
        "                               ])\n"
      ],
      "execution_count": null,
      "outputs": []
    },
    {
      "cell_type": "code",
      "metadata": {
        "id": "QWcFm_OX4pTR"
      },
      "source": [
        "# Loading the data and applying the transforms\n",
        "train_data = datasets.ImageFolder('/content/drive/MyDrive/imagenette2-160/train', transform=transform_train)\n",
        "test_data = datasets.ImageFolder('/content/drive/MyDrive/imagenette2-160/val', transform=transform)\n",
        "\n",
        "# Creating the Dataloader objects that put the data into iterable batches for the modeling process\n",
        "trainloader = torch.utils.data.DataLoader(train_data, batch_size=128, shuffle=True)\n",
        "testloader = torch.utils.data.DataLoader(test_data, batch_size=128, shuffle=False)"
      ],
      "execution_count": null,
      "outputs": []
    },
    {
      "cell_type": "code",
      "metadata": {
        "colab": {
          "base_uri": "https://localhost:8080/"
        },
        "id": "_M6Aef7C5Mhl",
        "outputId": "0f22057d-c4b5-46c2-a808-4276346024ae"
      },
      "source": [
        "# Checking data dimesions\n",
        "dataiter = iter(trainloader)\n",
        "images, labels = dataiter.next()\n",
        "\n",
        "print(images.shape)\n",
        "print(labels.shape)"
      ],
      "execution_count": null,
      "outputs": [
        {
          "output_type": "stream",
          "text": [
            "torch.Size([128, 3, 160, 160])\n",
            "torch.Size([128])\n"
          ],
          "name": "stdout"
        }
      ]
    },
    {
      "cell_type": "markdown",
      "metadata": {
        "id": "UpDkT629XJ-m"
      },
      "source": [
        "#Building a VGG architecture\n",
        "I used a -relatively shallow- VGG architecture to train this image classification model. The network consists of 4 blocks of (Conv > ReLU > MaxPool > Dropout) followed by 3 fully connected layers"
      ]
    },
    {
      "cell_type": "code",
      "metadata": {
        "id": "VLydqvWz5UJ6"
      },
      "source": [
        "class vgg(nn.Module):\n",
        "    def __init__(self):\n",
        "        super(vgg, self).__init__()\n",
        "        self.cnn_layers = nn.Sequential(\n",
        "            nn.Conv2d(3, 16, kernel_size=3, stride=1, padding=1),\n",
        "            nn.ReLU(inplace=True),\n",
        "            nn.MaxPool2d(kernel_size=2, stride=2),\n",
        "            nn.Dropout(0.5),\n",
        "\n",
        "            nn.Conv2d(16, 16, kernel_size=3, stride=1, padding=1),\n",
        "            nn.ReLU(inplace=True),\n",
        "            nn.MaxPool2d(kernel_size=2, stride=2),\n",
        "            nn.Dropout(0.35),\n",
        "\n",
        "            nn.Conv2d(16, 32, kernel_size=3, stride=1, padding=1),\n",
        "            nn.ReLU(inplace=True),\n",
        "            nn.MaxPool2d(kernel_size=2, stride=2),\n",
        "            nn.Dropout(0.25),\n",
        "\n",
        "            nn.Conv2d(32, 32, kernel_size=3, stride=1, padding=1),\n",
        "            nn.ReLU(inplace=True),\n",
        "            nn.MaxPool2d(kernel_size=2, stride=2),\n",
        "            nn.Dropout(0.5)\n",
        "        )\n",
        "\n",
        "        self.linear_layers = nn.Sequential(\n",
        "            nn.Linear(32*10*10, 4096),\n",
        "            nn.ReLU(inplace=True),\n",
        "            nn.Dropout(0.35),\n",
        "            nn.Linear(4096, 4096),\n",
        "            nn.ReLU(inplace=True),\n",
        "            nn.Dropout(0.35),\n",
        "            nn.Linear(4096, 10),\n",
        "        )\n",
        "    \n",
        "    \n",
        "    def forward(self, x):\n",
        "      x = self.cnn_layers(x)\n",
        "      x = x.view(x.size(0), -1)\n",
        "      x = self.linear_layers(x)\n",
        "      return x"
      ],
      "execution_count": null,
      "outputs": []
    },
    {
      "cell_type": "markdown",
      "metadata": {
        "id": "zQ-NG3GhYCyp"
      },
      "source": [
        "#Training and testing the Network"
      ]
    },
    {
      "cell_type": "code",
      "metadata": {
        "colab": {
          "base_uri": "https://localhost:8080/"
        },
        "id": "CElI5Ikn5cMF",
        "outputId": "968468cc-f6cf-415c-ae75-6c991943f2b8"
      },
      "source": [
        "# Defining the model\n",
        "model = vgg()\n",
        "optimizer = optim.SGD(model.parameters(), lr=0.01, momentum=0.9)\n",
        "criterion = nn.CrossEntropyLoss()\n",
        "\n",
        "# checking if GPU is available\n",
        "if torch.cuda.is_available():\n",
        "    model = model.cuda()\n",
        "    criterion = criterion.cuda()\n",
        "    \n",
        "print(model)"
      ],
      "execution_count": null,
      "outputs": [
        {
          "output_type": "stream",
          "text": [
            "vgg(\n",
            "  (cnn_layers): Sequential(\n",
            "    (0): Conv2d(3, 16, kernel_size=(3, 3), stride=(1, 1), padding=(1, 1))\n",
            "    (1): ReLU(inplace=True)\n",
            "    (2): MaxPool2d(kernel_size=2, stride=2, padding=0, dilation=1, ceil_mode=False)\n",
            "    (3): Dropout(p=0.5, inplace=False)\n",
            "    (4): Conv2d(16, 16, kernel_size=(3, 3), stride=(1, 1), padding=(1, 1))\n",
            "    (5): ReLU(inplace=True)\n",
            "    (6): MaxPool2d(kernel_size=2, stride=2, padding=0, dilation=1, ceil_mode=False)\n",
            "    (7): Dropout(p=0.35, inplace=False)\n",
            "    (8): Conv2d(16, 32, kernel_size=(3, 3), stride=(1, 1), padding=(1, 1))\n",
            "    (9): ReLU(inplace=True)\n",
            "    (10): MaxPool2d(kernel_size=2, stride=2, padding=0, dilation=1, ceil_mode=False)\n",
            "    (11): Dropout(p=0.25, inplace=False)\n",
            "    (12): Conv2d(32, 32, kernel_size=(3, 3), stride=(1, 1), padding=(1, 1))\n",
            "    (13): ReLU(inplace=True)\n",
            "    (14): MaxPool2d(kernel_size=2, stride=2, padding=0, dilation=1, ceil_mode=False)\n",
            "    (15): Dropout(p=0.5, inplace=False)\n",
            "  )\n",
            "  (linear_layers): Sequential(\n",
            "    (0): Linear(in_features=3200, out_features=4096, bias=True)\n",
            "    (1): ReLU(inplace=True)\n",
            "    (2): Dropout(p=0.35, inplace=False)\n",
            "    (3): Linear(in_features=4096, out_features=4096, bias=True)\n",
            "    (4): ReLU(inplace=True)\n",
            "    (5): Dropout(p=0.35, inplace=False)\n",
            "    (6): Linear(in_features=4096, out_features=10, bias=True)\n",
            "  )\n",
            ")\n"
          ],
          "name": "stdout"
        }
      ]
    },
    {
      "cell_type": "code",
      "metadata": {
        "colab": {
          "base_uri": "https://localhost:8080/"
        },
        "id": "ihQeHcS65iAL",
        "outputId": "8d6ad54f-88db-4221-d408-2dd3e3350657"
      },
      "source": [
        "# Training the model\n",
        "loss_history = []\n",
        "for i in range(85):\n",
        "    running_loss = 0\n",
        "    for images, labels in trainloader:\n",
        "\n",
        "        if torch.cuda.is_available():\n",
        "          images = images.cuda()\n",
        "          labels = labels.cuda()\n",
        "\n",
        "        # Clearing old gradients and forward propagating\n",
        "        optimizer.zero_grad()\n",
        "        \n",
        "        output = model(images)\n",
        "        loss = criterion(output, labels)\n",
        "        \n",
        "        # Backprobagating and updating the parameters\n",
        "        loss.backward()\n",
        "        optimizer.step()\n",
        "        \n",
        "        running_loss += loss.item()\n",
        "    else:\n",
        "        print(\"Epoch {} - Training loss: {}\".format(i+1, running_loss/len(trainloader)))\n",
        "        loss_history.append(running_loss/len(trainloader))"
      ],
      "execution_count": null,
      "outputs": [
        {
          "output_type": "stream",
          "text": [
            "Epoch 1 - Training loss: 2.3008635688472436\n",
            "Epoch 2 - Training loss: 2.2421989602011605\n",
            "Epoch 3 - Training loss: 2.0731731620994776\n",
            "Epoch 4 - Training loss: 1.9734526872634888\n",
            "Epoch 5 - Training loss: 1.900587750447763\n",
            "Epoch 6 - Training loss: 1.8502421137448903\n",
            "Epoch 7 - Training loss: 1.7830083515193011\n",
            "Epoch 8 - Training loss: 1.7382576997215684\n",
            "Epoch 9 - Training loss: 1.6903400856095392\n",
            "Epoch 10 - Training loss: 1.650170381004746\n",
            "Epoch 11 - Training loss: 1.639424876586811\n",
            "Epoch 12 - Training loss: 1.5619675629847758\n",
            "Epoch 13 - Training loss: 1.497915122960065\n",
            "Epoch 14 - Training loss: 1.468146589962212\n",
            "Epoch 15 - Training loss: 1.4081841610573433\n",
            "Epoch 16 - Training loss: 1.3621753421989646\n",
            "Epoch 17 - Training loss: 1.3317150280282304\n",
            "Epoch 18 - Training loss: 1.3185561315433398\n",
            "Epoch 19 - Training loss: 1.269995297934558\n",
            "Epoch 20 - Training loss: 1.2426273645581425\n",
            "Epoch 21 - Training loss: 1.2254016487985044\n",
            "Epoch 22 - Training loss: 1.1885998949811265\n",
            "Epoch 23 - Training loss: 1.1599102302177533\n",
            "Epoch 24 - Training loss: 1.1615731289257873\n",
            "Epoch 25 - Training loss: 1.1351496005380475\n",
            "Epoch 26 - Training loss: 1.1111570524202812\n",
            "Epoch 27 - Training loss: 1.0846195953923303\n",
            "Epoch 28 - Training loss: 1.0689387538948574\n",
            "Epoch 29 - Training loss: 1.0467356725319013\n",
            "Epoch 30 - Training loss: 1.0373838318360817\n",
            "Epoch 31 - Training loss: 1.017209865756937\n",
            "Epoch 32 - Training loss: 1.0033259826737482\n",
            "Epoch 33 - Training loss: 0.996405956712929\n",
            "Epoch 34 - Training loss: 0.9748293741329296\n",
            "Epoch 35 - Training loss: 0.9410558028801067\n",
            "Epoch 36 - Training loss: 0.9263058916942494\n",
            "Epoch 37 - Training loss: 0.9419165374459447\n",
            "Epoch 38 - Training loss: 0.911714073773977\n",
            "Epoch 39 - Training loss: 0.8920614437477009\n",
            "Epoch 40 - Training loss: 0.8796773657605454\n",
            "Epoch 41 - Training loss: 0.9001301325656272\n",
            "Epoch 42 - Training loss: 0.8503515051828848\n",
            "Epoch 43 - Training loss: 0.8596306499597188\n",
            "Epoch 44 - Training loss: 0.8391842556160849\n",
            "Epoch 45 - Training loss: 0.8512648472914824\n",
            "Epoch 46 - Training loss: 0.8108554997959653\n",
            "Epoch 47 - Training loss: 0.8285073227173573\n",
            "Epoch 48 - Training loss: 0.8098091756975329\n",
            "Epoch 49 - Training loss: 0.8107243752157366\n",
            "Epoch 50 - Training loss: 0.7768059058769329\n",
            "Epoch 51 - Training loss: 0.781215917419743\n",
            "Epoch 52 - Training loss: 0.7631298432479033\n",
            "Epoch 53 - Training loss: 0.7632756619840055\n",
            "Epoch 54 - Training loss: 0.7711748891585583\n",
            "Epoch 55 - Training loss: 0.7253552928969667\n",
            "Epoch 56 - Training loss: 0.719673719760534\n",
            "Epoch 57 - Training loss: 0.7428826371560225\n",
            "Epoch 58 - Training loss: 0.7097067381884601\n",
            "Epoch 59 - Training loss: 0.7088995559795482\n",
            "Epoch 60 - Training loss: 0.69880626572145\n",
            "Epoch 61 - Training loss: 0.6805471552384866\n",
            "Epoch 62 - Training loss: 0.6843433448591748\n",
            "Epoch 63 - Training loss: 0.6834414456341718\n",
            "Epoch 64 - Training loss: 0.6587087056926779\n",
            "Epoch 65 - Training loss: 0.6603631067114908\n",
            "Epoch 66 - Training loss: 0.6672308001969312\n",
            "Epoch 67 - Training loss: 0.6456829458475113\n",
            "Epoch 68 - Training loss: 0.6509484777579436\n",
            "Epoch 69 - Training loss: 0.6315044784868086\n",
            "Epoch 70 - Training loss: 0.6177158283220755\n",
            "Epoch 71 - Training loss: 0.5975583352752634\n",
            "Epoch 72 - Training loss: 0.6160605573976362\n",
            "Epoch 73 - Training loss: 0.581464213696686\n",
            "Epoch 74 - Training loss: 0.6068181290819838\n",
            "Epoch 75 - Training loss: 0.5902384177253053\n",
            "Epoch 76 - Training loss: 0.5706556620630058\n",
            "Epoch 77 - Training loss: 0.5579148522905402\n",
            "Epoch 78 - Training loss: 0.5755888118937209\n",
            "Epoch 79 - Training loss: 0.5628803235453528\n",
            "Epoch 80 - Training loss: 0.5630281640065683\n",
            "Epoch 81 - Training loss: 0.5519155380693642\n",
            "Epoch 82 - Training loss: 0.539538837365202\n",
            "Epoch 83 - Training loss: 0.539314791560173\n",
            "Epoch 84 - Training loss: 0.5189889544570768\n",
            "Epoch 85 - Training loss: 0.5090464917389123\n"
          ],
          "name": "stdout"
        }
      ]
    },
    {
      "cell_type": "code",
      "metadata": {
        "id": "_xznuIEK5xi5",
        "colab": {
          "base_uri": "https://localhost:8080/"
        },
        "outputId": "fd13ffe0-7912-42dd-853f-0abcfa0a209e"
      },
      "source": [
        "# getting predictions on test set and measuring the performance\n",
        "correct_count, all_count = 0, 0\n",
        "for images,labels in testloader:\n",
        "  for i in range(len(labels)):\n",
        "    if torch.cuda.is_available():\n",
        "        images = images.cuda()\n",
        "        labels = labels.cuda()\n",
        "    img = images[i].view(1, 3, 160, 160)\n",
        "    with torch.no_grad():\n",
        "        logps = model(img)\n",
        "\n",
        "    \n",
        "    ps = torch.exp(logps)\n",
        "    probab = list(ps.cpu()[0])\n",
        "    pred_label = probab.index(max(probab))\n",
        "    true_label = labels.cpu()[i]\n",
        "    if(true_label == pred_label):\n",
        "      correct_count += 1\n",
        "    all_count += 1\n",
        "\n",
        "print(\"Number Of Images Tested =\", all_count)\n",
        "print(f\"\\nModel Accuracy ={(correct_count/all_count):.2f}\")"
      ],
      "execution_count": null,
      "outputs": [
        {
          "output_type": "stream",
          "text": [
            "Number Of Images Tested = 3925\n",
            "\n",
            "Model Accuracy =0.71\n"
          ],
          "name": "stdout"
        }
      ]
    },
    {
      "cell_type": "code",
      "metadata": {
        "colab": {
          "base_uri": "https://localhost:8080/",
          "height": 299
        },
        "id": "jFvfpsgzs5Jl",
        "outputId": "5e4a69fc-2336-414a-c826-e9990497806c"
      },
      "source": [
        "# Plotting the learning curve\n",
        "plt.style.use('ggplot')\n",
        "plt.figure()\n",
        "plt.plot(np.arange(0,85), loss_history, label='Training loss')\n",
        "plt.xlabel ('Epoch')\n",
        "plt.ylabel('Loss')\n",
        "plt.title('Training Loss')\n",
        "plt.show()"
      ],
      "execution_count": null,
      "outputs": [
        {
          "output_type": "display_data",
          "data": {
            "image/png": "[encoded data removed]",
            "text/plain": [
              "<Figure size 432x288 with 1 Axes>"
            ]
          },
          "metadata": {
            "tags": []
          }
        }
      ]
    }
  ]
}